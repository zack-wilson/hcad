{
 "cells": [
  {
   "cell_type": "code",
   "execution_count": 78,
   "metadata": {},
   "outputs": [],
   "source": [
    "import os\n",
    "import json\n",
    "import sys\n",
    "from urllib.parse import urljoin, urlsplit\n",
    "from pathlib import Path\n",
    "from zipfile import ZipFile\n",
    "from typing import Dict, Optional, Iterable, Any\n",
    "\n",
    "import requests\n",
    "from pyspark.sql.dataframe import DataFrame\n",
    "from pyspark.files import SparkFiles\n",
    "from pyspark.sql import SparkSession\n",
    "from pyspark.sql.types import *\n",
    "from pyspark.sql.functions import *"
   ]
  },
  {
   "cell_type": "markdown",
   "metadata": {},
   "source": [
    "## Creating a new session"
   ]
  },
  {
   "cell_type": "code",
   "execution_count": 79,
   "metadata": {},
   "outputs": [],
   "source": [
    "spark = SparkSession.builder \\\n",
    "        .appName(\"SparkMagic\") \\\n",
    "        .enableHiveSupport() \\\n",
    "        .getOrCreate()\n",
    "sc = spark.sparkContext"
   ]
  },
  {
   "cell_type": "markdown",
   "metadata": {},
   "source": [
    "## Using local files"
   ]
  },
  {
   "cell_type": "code",
   "execution_count": 80,
   "metadata": {},
   "outputs": [],
   "source": [
    "samples = Path(\"./samples/landing/2019/Hearing_files\")"
   ]
  },
  {
   "cell_type": "markdown",
   "metadata": {},
   "source": [
    "## Reading files"
   ]
  },
  {
   "cell_type": "code",
   "execution_count": 81,
   "metadata": {},
   "outputs": [
    {
     "name": "stdout",
     "output_type": "stream",
     "text": [
      "arb_hearings_real arb_protest_real\n"
     ]
    }
   ],
   "source": [
    "parquet_files = [\n",
    "    p for p in samples.rglob(\"*arb*real*\")\n",
    "]\n",
    "frames = {\n",
    "    f.stem: spark.read.parquet(f.as_posix())\n",
    "    for f in parquet_files\n",
    "}\n",
    "print(*frames)"
   ]
  },
  {
   "cell_type": "code",
   "execution_count": 82,
   "metadata": {},
   "outputs": [
    {
     "name": "stdout",
     "output_type": "stream",
     "text": [
      "+-------------+------------+------------+\n",
      "|         acct|protested_by|protested_dt|\n",
      "+-------------+------------+------------+\n",
      "|1143210310026|        5082|  05/11/2019|\n",
      "|1183480020014|         463|  04/23/2019|\n",
      "|1146730000146|       Owner|  03/29/2019|\n",
      "|0611380690023|       Owner|  03/23/2019|\n",
      "|1058680000020|        7092|  05/15/2019|\n",
      "|1397150020013|        3088|  05/15/2019|\n",
      "|0511010030018|        4634|  05/14/2019|\n",
      "|1141250040032|       46327|  05/10/2019|\n",
      "|0720270040037|         463|  05/10/2019|\n",
      "|1158470000003|       Owner|  04/04/2019|\n",
      "|1188950020019|       Owner|  06/22/2019|\n",
      "|1360540020018|           6|  05/15/2019|\n",
      "|1374240010020|       Owner|  05/18/2019|\n",
      "|0660460390024|        5094|  05/15/2019|\n",
      "|1298500010008|        3030|  05/14/2019|\n",
      "|0750860580001|         650|  05/09/2019|\n",
      "|1035090000013|         463|  04/23/2019|\n",
      "|1332450000004|       Owner|  03/28/2019|\n",
      "|1304150010006|       Owner|  03/21/2019|\n",
      "|0861370000007|       Owner|  05/13/2019|\n",
      "+-------------+------------+------------+\n",
      "only showing top 20 rows\n",
      "\n"
     ]
    }
   ],
   "source": [
    "frames[\"arb_protest_real\"].show()"
   ]
  },
  {
   "cell_type": "code",
   "execution_count": 83,
   "metadata": {},
   "outputs": [],
   "source": [
    "protests_real_df = frames['arb_protest_real']"
   ]
  },
  {
   "cell_type": "code",
   "execution_count": 84,
   "metadata": {},
   "outputs": [
    {
     "name": "stdout",
     "output_type": "stream",
     "text": [
      "+------------+\n",
      "|protested_dt|\n",
      "+------------+\n",
      "|  05/11/2019|\n",
      "|  04/23/2019|\n",
      "|  03/29/2019|\n",
      "|  03/23/2019|\n",
      "|  05/15/2019|\n",
      "+------------+\n",
      "only showing top 5 rows\n",
      "\n"
     ]
    }
   ],
   "source": [
    "protests_real_df.select(\"protested_dt\").show(5)"
   ]
  },
  {
   "cell_type": "code",
   "execution_count": 85,
   "metadata": {},
   "outputs": [
    {
     "name": "stdout",
     "output_type": "stream",
     "text": [
      "+-------------+------------+------------+\n",
      "|         acct|protested_by|protested_dt|\n",
      "+-------------+------------+------------+\n",
      "|1052860000018|       Owner|  05/21/2019|\n",
      "+-------------+------------+------------+\n",
      "\n"
     ]
    }
   ],
   "source": [
    "protests_real_df.select(\"*\").where(col(\"acct\") == \"1052860000018\").show(5)"
   ]
  },
  {
   "cell_type": "code",
   "execution_count": 86,
   "metadata": {},
   "outputs": [],
   "source": [
    "hearings_real_df = frames[\"arb_hearings_real\"]"
   ]
  },
  {
   "cell_type": "code",
   "execution_count": 87,
   "metadata": {},
   "outputs": [
    {
     "name": "stdout",
     "output_type": "stream",
     "text": [
      "+-----------------------+---------------------+-------------------------------------------------+\n",
      "|Initial_Appraised_Value|Final_Appraised_Value|(Initial_Appraised_Value - Final_Appraised_Value)|\n",
      "+-----------------------+---------------------+-------------------------------------------------+\n",
      "|                 260150|               240000|                                          20150.0|\n",
      "+-----------------------+---------------------+-------------------------------------------------+\n",
      "\n"
     ]
    }
   ],
   "source": [
    "hearings_real_df.select(\n",
    "    col(\"Initial_Appraised_Value\"), \n",
    "    col(\"Final_Appraised_Value\"), \n",
    "    col(\"Initial_Appraised_Value\") - col(\"Final_Appraised_Value\")\n",
    ").where(\n",
    "    \"acct=1052860000018\"\n",
    ").show()"
   ]
  },
  {
   "cell_type": "code",
   "execution_count": 88,
   "metadata": {},
   "outputs": [],
   "source": [
    "def read_record(id: str, df: DataFrame) -> DataFrame:\n",
    "    return (df.select(\"*\").where(df.acct==id))"
   ]
  },
  {
   "cell_type": "code",
   "execution_count": 44,
   "metadata": {},
   "outputs": [
    {
     "data": {
      "text/plain": [
       "DataFrame[acct: string, Tax_Year: string, Real_Personal_Property: string, Hearing_Type: string, State_Class_Code: string, Owner_Name: string, Scheduled_for_Date: string, Actual_Hearing_Date: string, Release_Date: string, Letter_Type: string, Agent_Code: string, Initial_Appraised_Value: string, Initial_Market_Value: string, Final_Appraised_Value: string, Final_Market_Value: string]"
      ]
     },
     "execution_count": 44,
     "metadata": {},
     "output_type": "execute_result"
    }
   ],
   "source": [
    "read_record(\"1052860000018\", df=frames[\"arb_hearings_real\"])"
   ]
  },
  {
   "cell_type": "code",
   "execution_count": 50,
   "metadata": {},
   "outputs": [],
   "source": [
    "joined_df = protests_real_df.join(hearings_real_df, on=\"acct\")"
   ]
  },
  {
   "cell_type": "code",
   "execution_count": 54,
   "metadata": {},
   "outputs": [
    {
     "data": {
      "text/plain": [
       "418230"
      ]
     },
     "execution_count": 54,
     "metadata": {},
     "output_type": "execute_result"
    }
   ],
   "source": [
    "joined_df.count()"
   ]
  },
  {
   "cell_type": "code",
   "execution_count": 56,
   "metadata": {},
   "outputs": [
    {
     "data": {
      "text/plain": [
       "424219"
      ]
     },
     "execution_count": 56,
     "metadata": {},
     "output_type": "execute_result"
    }
   ],
   "source": [
    "protests_real_df.count()"
   ]
  },
  {
   "cell_type": "code",
   "execution_count": 57,
   "metadata": {},
   "outputs": [
    {
     "data": {
      "text/plain": [
       "398178"
      ]
     },
     "execution_count": 57,
     "metadata": {},
     "output_type": "execute_result"
    }
   ],
   "source": [
    "hearings_real_df.count()"
   ]
  },
  {
   "cell_type": "code",
   "execution_count": 58,
   "metadata": {},
   "outputs": [
    {
     "data": {
      "text/plain": [
       "26041"
      ]
     },
     "execution_count": 58,
     "metadata": {},
     "output_type": "execute_result"
    }
   ],
   "source": [
    "424219-398178"
   ]
  },
  {
   "cell_type": "code",
   "execution_count": 60,
   "metadata": {},
   "outputs": [],
   "source": [
    "joined_df = hearings_real_df.join(protests_real_df, on=\"acct\")"
   ]
  },
  {
   "cell_type": "code",
   "execution_count": 72,
   "metadata": {},
   "outputs": [
    {
     "data": {
      "text/plain": [
       "418230"
      ]
     },
     "execution_count": 72,
     "metadata": {},
     "output_type": "execute_result"
    }
   ],
   "source": [
    "joined_df.count()"
   ]
  },
  {
   "cell_type": "code",
   "execution_count": 75,
   "metadata": {},
   "outputs": [],
   "source": [
    "owners_df = spark.read.parquet(\"samples/landing/2019/Real_acct_owner/owners.parquet/\")"
   ]
  },
  {
   "cell_type": "code",
   "execution_count": 76,
   "metadata": {},
   "outputs": [
    {
     "data": {
      "text/plain": [
       "DataFrame[acct: string, ln_num: string, name: string, aka: string, pct_own: string]"
      ]
     },
     "execution_count": 76,
     "metadata": {},
     "output_type": "execute_result"
    }
   ],
   "source": [
    "owners_df"
   ]
  },
  {
   "cell_type": "code",
   "execution_count": 90,
   "metadata": {},
   "outputs": [],
   "source": [
    "joined_df = joined_df.join(owners_df, on=\"acct\")"
   ]
  },
  {
   "cell_type": "code",
   "execution_count": 91,
   "metadata": {},
   "outputs": [
    {
     "name": "stdout",
     "output_type": "stream",
     "text": [
      "+-------------+--------+----------------------+------------+----------------+--------------------+------------------+-------------------+------------+-----------+----------+-----------------------+--------------------+---------------------+------------------+------------+------------+------+--------------------+--------------------+-------+\n",
      "|         acct|Tax_Year|Real_Personal_Property|Hearing_Type|State_Class_Code|          Owner_Name|Scheduled_for_Date|Actual_Hearing_Date|Release_Date|Letter_Type|Agent_Code|Initial_Appraised_Value|Initial_Market_Value|Final_Appraised_Value|Final_Market_Value|protested_by|protested_dt|ln_num|                name|                 aka|pct_own|\n",
      "+-------------+--------+----------------------+------------+----------------+--------------------+------------------+-------------------+------------+-----------+----------+-----------------------+--------------------+---------------------+------------------+------------+------------+------+--------------------+--------------------+-------+\n",
      "|0021260000006|    2019|                     R|           F|            B1  |      SADIAN DAVID D|        06/14/2019|         07/13/2019|  07/19/2019|         FC|    46332 |                 317336|              317336|               317290|            317290|       46332|  05/14/2019|     1|      SADIAN DAVID D|        2019 DOWLING|  1.000|\n",
      "|0021830000001|    2019|                     R|           F|            F1  |TC TEAM INVESTMEN...|        05/21/2019|         05/16/2019|  07/03/2019|         FC|    218   |                1992127|             1992127|              1992072|           1992072|         218|  04/30/2019|     1|TC TEAM INVESTMEN...|                    |  1.000|\n",
      "|0021830000001|    2019|                     R|           F|            F1  |TC TEAM INVESTMEN...|        05/21/2019|         05/16/2019|  07/03/2019|         FC|    218   |                1992127|             1992127|              1992072|           1992072|       Owner|  04/04/2019|     1|TC TEAM INVESTMEN...|                    |  1.000|\n",
      "|0030510000007|    2019|                     R|           F|            C2  |HOUSTON EUREKA IN...|              null|         07/13/2019|  07/19/2019|         FC|    6046  |                 146250|              146250|               123165|            123165|        6046|  05/14/2019|     1|HOUSTON EUREKA IN...|                    |  1.000|\n",
      "|0031750000007|    2019|                     R|           F|            A1  |   STANLEY FAMILY LP|        05/03/2019|         07/12/2019|  07/19/2019|         FC|    396   |                 212510|              212510|               200000|            200000|       Owner|  04/01/2019|     1|   STANLEY FAMILY LP|                    |  1.000|\n",
      "|0031750000007|    2019|                     R|           F|            A1  |   STANLEY FAMILY LP|        05/03/2019|         07/12/2019|  07/19/2019|         FC|    396   |                 212510|              212510|               200000|            200000|         396|  05/15/2019|     1|   STANLEY FAMILY LP|                    |  1.000|\n",
      "|0041740000094|    2019|                     R|           F|            C2  |       CURRENT OWNER|        08/02/2019|         09/09/2019|  09/20/2019|         FN|    7092  |                 264176|              264176|               264176|            264176|        7092|  05/15/2019|     1|       CURRENT OWNER|                    |  1.000|\n",
      "|0041740000190|    2019|                     R|           F|            A1  |BATES JAMES G & S...|        11/05/2019|         12/03/2019|  12/06/2019|         FC|    463   |                 261800|              320972|               200000|            200000|         463|  05/10/2019|     1|BATES JAMES G & S...|                    |  1.000|\n",
      "|0041750000167|    2019|                     R|           F|            F1  |      TRINITY RCT LP|        06/18/2019|         07/29/2019|  08/02/2019|         FC|    4631  |                1388781|             1388781|              1275873|           1275873|        4631|  05/14/2019|     1|      TRINITY RCT LP|ROYAL COACH TRAIL...|  1.000|\n",
      "|0041750000171|    2019|                     R|           I|            C2  |METAL BUILDING CO...|        07/25/2019|               null|  07/19/2019|         WD|    4061  |                 322016|              322016|               322016|            322016|        4061|  05/15/2019|     1|METAL BUILDING CO...|                    |  1.000|\n",
      "|0050110000021|    2019|                     R|           F|            B2  |         CANTU JESSE|        05/03/2019|         05/06/2019|  06/07/2019|         FC|    404   |                 614016|              683531|               522000|            522000|         404|  03/28/2019|     1|         CANTU JESSE|                    |  1.000|\n",
      "|0051200000007|    2019|                     R|           I|            A1  |       GUERRERO HUGO|        06/09/2019|         06/09/2019|  06/14/2019|         EH|          |                 286454|              286454|               284800|            284800|       Owner|  05/23/2019|     1|       GUERRERO HUGO|                    |   .500|\n",
      "|0051200000007|    2019|                     R|           I|            A1  |       GUERRERO HUGO|        06/09/2019|         06/09/2019|  06/14/2019|         EH|          |                 286454|              286454|               284800|            284800|       Owner|  05/23/2019|     2|      PACHECO YVONNE|                    |   .500|\n",
      "|0051820000004|    2019|                     R|           F|            A1  |  VOSSLER KATHLEEN M|              null|         05/14/2019|  06/07/2019|         FC|    46326 |                 346920|              360908|               335000|            335000|       46326|  04/23/2019|     1|  VOSSLER KATHLEEN M|                    |  1.000|\n",
      "|0051830000007|    2019|                     R|           I|            A1  |BROWNING KENNETH ...|        05/15/2019|         05/15/2019|  05/17/2019|         IC|          |                 456500|              572107|               415000|            415000|       Owner|  04/02/2019|     1|BROWNING KENNETH ...|                    |  1.000|\n",
      "|0051830000007|    2019|                     R|           I|            A1  |BROWNING KENNETH ...|        05/15/2019|         05/15/2019|  05/17/2019|         IC|          |                 456500|              572107|               415000|            415000|       Owner|  04/02/2019|     2|        SAAM TISHA K|                    |   .000|\n",
      "|0052270000008|    2019|                     R|           I|            F1  |  ACROSS THE AVE LLC|        05/20/2019|               null|  08/02/2019|         NN|    8036  |                 495575|              495575|               495575|            495575|        8036|  05/14/2019|     1|  ACROSS THE AVE LLC|                    |  1.000|\n",
      "|0052350000017|    2019|                     R|           I|            F1  |1017 HOUSTON AVEN...|        05/23/2019|         07/01/2019|  07/03/2019|         IC|    73    |                 354604|              354604|               343828|            343828|          73|  05/11/2019|     1|1017 HOUSTON AVEN...|        AVENUE GRILL|  1.000|\n",
      "|0061310000009|    2019|                     R|           F|            A1  |OAKLAND LAND & DE...|        08/19/2019|         08/19/2019|  09/06/2019|         FC|    3143  |                 268692|              268692|               264642|            264642|        3143|  03/28/2019|     1|OAKLAND LAND & DE...|                    |  1.000|\n",
      "|0061860000036|    2019|                     R|           F|            A1  |       CURRENT OWNER|        05/29/2019|         07/17/2019|  07/19/2019|         FC|          |                 837898|              837898|               613000|            613000|       Owner|  05/13/2019|     1|       CURRENT OWNER|                    |  1.000|\n",
      "+-------------+--------+----------------------+------------+----------------+--------------------+------------------+-------------------+------------+-----------+----------+-----------------------+--------------------+---------------------+------------------+------------+------------+------+--------------------+--------------------+-------+\n",
      "only showing top 20 rows\n",
      "\n"
     ]
    }
   ],
   "source": [
    "joined_df.show()"
   ]
  },
  {
   "cell_type": "code",
   "execution_count": 94,
   "metadata": {},
   "outputs": [
    {
     "name": "stdout",
     "output_type": "stream",
     "text": [
      "Object `show` not found.\n"
     ]
    }
   ],
   "source": [
    "joined_df.select(\"acct\", \"name\").where(\"acct=1052860000018\").show?"
   ]
  },
  {
   "cell_type": "code",
   "execution_count": 97,
   "metadata": {},
   "outputs": [
    {
     "name": "stdout",
     "output_type": "stream",
     "text": [
      "+-------------+--------+----------------------+------------+----------------+--------------------+------------------+-------------------+------------+-----------+----------+-----------------------+--------------------+---------------------+------------------+------------+------------+------+--------------------+--------------------+-------+\n",
      "|         acct|Tax_Year|Real_Personal_Property|Hearing_Type|State_Class_Code|          Owner_Name|Scheduled_for_Date|Actual_Hearing_Date|Release_Date|Letter_Type|Agent_Code|Initial_Appraised_Value|Initial_Market_Value|Final_Appraised_Value|Final_Market_Value|protested_by|protested_dt|ln_num|                name|                 aka|pct_own|\n",
      "+-------------+--------+----------------------+------------+----------------+--------------------+------------------+-------------------+------------+-----------+----------+-----------------------+--------------------+---------------------+------------------+------------+------------+------+--------------------+--------------------+-------+\n",
      "|0021260000006|    2019|                     R|           F|            B1  |      SADIAN DAVID D|        06/14/2019|         07/13/2019|  07/19/2019|         FC|    46332 |                 317336|              317336|               317290|            317290|       46332|  05/14/2019|     1|      SADIAN DAVID D|        2019 DOWLING|  1.000|\n",
      "|0021830000001|    2019|                     R|           F|            F1  |TC TEAM INVESTMEN...|        05/21/2019|         05/16/2019|  07/03/2019|         FC|    218   |                1992127|             1992127|              1992072|           1992072|         218|  04/30/2019|     1|TC TEAM INVESTMEN...|                    |  1.000|\n",
      "|0021830000001|    2019|                     R|           F|            F1  |TC TEAM INVESTMEN...|        05/21/2019|         05/16/2019|  07/03/2019|         FC|    218   |                1992127|             1992127|              1992072|           1992072|       Owner|  04/04/2019|     1|TC TEAM INVESTMEN...|                    |  1.000|\n",
      "|0030510000007|    2019|                     R|           F|            C2  |HOUSTON EUREKA IN...|              null|         07/13/2019|  07/19/2019|         FC|    6046  |                 146250|              146250|               123165|            123165|        6046|  05/14/2019|     1|HOUSTON EUREKA IN...|                    |  1.000|\n",
      "|0031750000007|    2019|                     R|           F|            A1  |   STANLEY FAMILY LP|        05/03/2019|         07/12/2019|  07/19/2019|         FC|    396   |                 212510|              212510|               200000|            200000|       Owner|  04/01/2019|     1|   STANLEY FAMILY LP|                    |  1.000|\n",
      "|0031750000007|    2019|                     R|           F|            A1  |   STANLEY FAMILY LP|        05/03/2019|         07/12/2019|  07/19/2019|         FC|    396   |                 212510|              212510|               200000|            200000|         396|  05/15/2019|     1|   STANLEY FAMILY LP|                    |  1.000|\n",
      "|0041740000094|    2019|                     R|           F|            C2  |       CURRENT OWNER|        08/02/2019|         09/09/2019|  09/20/2019|         FN|    7092  |                 264176|              264176|               264176|            264176|        7092|  05/15/2019|     1|       CURRENT OWNER|                    |  1.000|\n",
      "|0041740000190|    2019|                     R|           F|            A1  |BATES JAMES G & S...|        11/05/2019|         12/03/2019|  12/06/2019|         FC|    463   |                 261800|              320972|               200000|            200000|         463|  05/10/2019|     1|BATES JAMES G & S...|                    |  1.000|\n",
      "|0041750000167|    2019|                     R|           F|            F1  |      TRINITY RCT LP|        06/18/2019|         07/29/2019|  08/02/2019|         FC|    4631  |                1388781|             1388781|              1275873|           1275873|        4631|  05/14/2019|     1|      TRINITY RCT LP|ROYAL COACH TRAIL...|  1.000|\n",
      "|0041750000171|    2019|                     R|           I|            C2  |METAL BUILDING CO...|        07/25/2019|               null|  07/19/2019|         WD|    4061  |                 322016|              322016|               322016|            322016|        4061|  05/15/2019|     1|METAL BUILDING CO...|                    |  1.000|\n",
      "|0050110000021|    2019|                     R|           F|            B2  |         CANTU JESSE|        05/03/2019|         05/06/2019|  06/07/2019|         FC|    404   |                 614016|              683531|               522000|            522000|         404|  03/28/2019|     1|         CANTU JESSE|                    |  1.000|\n",
      "|0051200000007|    2019|                     R|           I|            A1  |       GUERRERO HUGO|        06/09/2019|         06/09/2019|  06/14/2019|         EH|          |                 286454|              286454|               284800|            284800|       Owner|  05/23/2019|     1|       GUERRERO HUGO|                    |   .500|\n",
      "|0051200000007|    2019|                     R|           I|            A1  |       GUERRERO HUGO|        06/09/2019|         06/09/2019|  06/14/2019|         EH|          |                 286454|              286454|               284800|            284800|       Owner|  05/23/2019|     2|      PACHECO YVONNE|                    |   .500|\n",
      "|0051820000004|    2019|                     R|           F|            A1  |  VOSSLER KATHLEEN M|              null|         05/14/2019|  06/07/2019|         FC|    46326 |                 346920|              360908|               335000|            335000|       46326|  04/23/2019|     1|  VOSSLER KATHLEEN M|                    |  1.000|\n",
      "|0051830000007|    2019|                     R|           I|            A1  |BROWNING KENNETH ...|        05/15/2019|         05/15/2019|  05/17/2019|         IC|          |                 456500|              572107|               415000|            415000|       Owner|  04/02/2019|     1|BROWNING KENNETH ...|                    |  1.000|\n",
      "|0051830000007|    2019|                     R|           I|            A1  |BROWNING KENNETH ...|        05/15/2019|         05/15/2019|  05/17/2019|         IC|          |                 456500|              572107|               415000|            415000|       Owner|  04/02/2019|     2|        SAAM TISHA K|                    |   .000|\n",
      "|0052270000008|    2019|                     R|           I|            F1  |  ACROSS THE AVE LLC|        05/20/2019|               null|  08/02/2019|         NN|    8036  |                 495575|              495575|               495575|            495575|        8036|  05/14/2019|     1|  ACROSS THE AVE LLC|                    |  1.000|\n",
      "|0052350000017|    2019|                     R|           I|            F1  |1017 HOUSTON AVEN...|        05/23/2019|         07/01/2019|  07/03/2019|         IC|    73    |                 354604|              354604|               343828|            343828|          73|  05/11/2019|     1|1017 HOUSTON AVEN...|        AVENUE GRILL|  1.000|\n",
      "|0061310000009|    2019|                     R|           F|            A1  |OAKLAND LAND & DE...|        08/19/2019|         08/19/2019|  09/06/2019|         FC|    3143  |                 268692|              268692|               264642|            264642|        3143|  03/28/2019|     1|OAKLAND LAND & DE...|                    |  1.000|\n",
      "|0061860000036|    2019|                     R|           F|            A1  |       CURRENT OWNER|        05/29/2019|         07/17/2019|  07/19/2019|         FC|          |                 837898|              837898|               613000|            613000|       Owner|  05/13/2019|     1|       CURRENT OWNER|                    |  1.000|\n",
      "+-------------+--------+----------------------+------------+----------------+--------------------+------------------+-------------------+------------+-----------+----------+-----------------------+--------------------+---------------------+------------------+------------+------------+------+--------------------+--------------------+-------+\n",
      "only showing top 20 rows\n",
      "\n"
     ]
    }
   ],
   "source": [
    "joined_df.show()"
   ]
  },
  {
   "cell_type": "code",
   "execution_count": null,
   "metadata": {},
   "outputs": [],
   "source": []
  },
  {
   "cell_type": "code",
   "execution_count": null,
   "metadata": {},
   "outputs": [],
   "source": []
  }
 ],
 "metadata": {
  "kernelspec": {
   "display_name": "Python 3",
   "language": "python",
   "name": "python3"
  },
  "language_info": {
   "codemirror_mode": {
    "name": "ipython",
    "version": 3
   },
   "file_extension": ".py",
   "mimetype": "text/x-python",
   "name": "python",
   "nbconvert_exporter": "python",
   "pygments_lexer": "ipython3",
   "version": "3.7.3"
  }
 },
 "nbformat": 4,
 "nbformat_minor": 4
}
