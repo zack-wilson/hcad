{
 "cells": [
  {
   "cell_type": "code",
   "execution_count": 101,
   "metadata": {},
   "outputs": [],
   "source": [
    "import bz2\n",
    "import csv\n",
    "import gzip\n",
    "import io\n",
    "import re\n",
    "import tarfile\n",
    "import zipfiles\n",
    "import shutil\n",
    "from pathlib import Path\n",
    "from typing import Iterable\n",
    "from urllib.parse import urlsplit\n",
    "import requests"
   ]
  },
  {
   "cell_type": "markdown",
   "metadata": {},
   "source": [
    "## Compress staged files\n",
    "\n",
    "These files are big, very big. We can save 50% of the space consumed if we compress them. "
   ]
  },
  {
   "cell_type": "code",
   "execution_count": 102,
   "metadata": {},
   "outputs": [],
   "source": [
    "samples = Path(\"samples\")"
   ]
  },
  {
   "cell_type": "code",
   "execution_count": 103,
   "metadata": {},
   "outputs": [],
   "source": [
    "remote = \"http://pdata.hcad.org/data/cama/2019/Hearing_files.zip\""
   ]
  },
  {
   "cell_type": "code",
   "execution_count": 106,
   "metadata": {},
   "outputs": [],
   "source": [
    "dictionary = re.findall(\n",
    "    r\"(\\w+)\\s+(\\w+)\\s+(\\d+)\",\n",
    "    requests.get(\"https://pdata.hcad.org/Desc/Layout_and_Length.txt\").text\n",
    ")"
   ]
  },
  {
   "cell_type": "code",
   "execution_count": 109,
   "metadata": {},
   "outputs": [
    {
     "data": {
      "text/plain": [
       "[('arb_hearings_pp', 'acct', '7'),\n",
       " ('arb_hearings_pp', 'Tax_Year', '2'),\n",
       " ('arb_hearings_pp', 'Personal', '1'),\n",
       " ('arb_hearings_pp', 'Hearing_Type', '1'),\n",
       " ('arb_hearings_pp', 'State_Class_Code', '2')]"
      ]
     },
     "execution_count": 109,
     "metadata": {},
     "output_type": "execute_result"
    }
   ],
   "source": [
    "dictionary[:5]"
   ]
  },
  {
   "cell_type": "code",
   "execution_count": 40,
   "metadata": {},
   "outputs": [],
   "source": [
    "def scaffold(*paths: Path):\n",
    "    for path in paths:\n",
    "        try:\n",
    "            path.mkdir()\n",
    "            print(\"Created %s\" % path)\n",
    "        except FileExistsError:\n",
    "            print(\"%s already exists, skipping.\" % path)"
   ]
  },
  {
   "cell_type": "code",
   "execution_count": 45,
   "metadata": {},
   "outputs": [
    {
     "name": "stdout",
     "output_type": "stream",
     "text": [
      "samples/zip already exists, skipping.\n",
      "samples/txt already exists, skipping.\n",
      "Created samples/gz\n"
     ]
    }
   ],
   "source": [
    "scaffold(samples.joinpath(\"zip\"), samples.joinpath(\"txt\"), samples.joinpath(\"gz\"))"
   ]
  },
  {
   "cell_type": "code",
   "execution_count": 70,
   "metadata": {},
   "outputs": [],
   "source": [
    "def source(*urls):\n",
    "    for url in urls:\n",
    "        print(\"Downloading %s\" % url)\n",
    "        yield requests.get(url)\n",
    "        print(\"Downloaded %s\" % url)"
   ]
  },
  {
   "cell_type": "code",
   "execution_count": 92,
   "metadata": {},
   "outputs": [],
   "source": [
    "def land(*sources: requests.Response) -> Iterable[Path]:\n",
    "    for src in sources:\n",
    "        print(\"Landing %s\" % src.url)\n",
    "        fn = Path(urlsplit(remote).path).name\n",
    "        dst = samples.joinpath('zip').joinpath(fn)\n",
    "        dst.write_bytes(src.content)\n",
    "        yield dst\n",
    "        print(\"Landed %s\" % dst)"
   ]
  },
  {
   "cell_type": "code",
   "execution_count": 81,
   "metadata": {},
   "outputs": [],
   "source": [
    "def process_zip(*files):\n",
    "    for file in files:\n",
    "        print(\"Processing %s\" % file)\n",
    "        with zipfile.ZipFile(file) as zip_file:\n",
    "            zip_file.printdir()\n",
    "            for name in zip_file.namelist():\n",
    "                yield io.TextIOWrapper(zip_file.open(name), encoding=\"iso-8859-1\", newline=\"\")"
   ]
  },
  {
   "cell_type": "code",
   "execution_count": 115,
   "metadata": {},
   "outputs": [],
   "source": [
    "def process_txt(*files):\n",
    "    for file in files:\n",
    "        print(\"Processing %s\" % file.name)\n",
    "        dst = samples.joinpath(\"csv\").joinpath(file.name).with_suffix(\".csv\")\n",
    "        dst.parent.mkdir(parents=True, exist_ok=True)\n",
    "        field_names = [i[1] for i in dictionary if i[0] in file.name]\n",
    "        reader = csv.DictReader(file, fieldnames=field_names, dialect=\"excel-tab\")\n",
    "        writer = csv.DictWriter(dst.open(\"w+\"), fieldnames=field_names)\n",
    "        try:\n",
    "            writer.writeheader()\n",
    "            for row in reader:\n",
    "                writer.writerow(row)\n",
    "            print(\"Processed %s\" % file)\n",
    "        except csv.Error as csv_error:\n",
    "            print(csv_error)"
   ]
  },
  {
   "cell_type": "code",
   "execution_count": 116,
   "metadata": {},
   "outputs": [
    {
     "name": "stdout",
     "output_type": "stream",
     "text": [
      "Downloading http://pdata.hcad.org/data/cama/2019/Hearing_files.zip\n",
      "Downloaded http://pdata.hcad.org/data/cama/2019/Hearing_files.zip\n",
      "Landing https://pdata.hcad.org/data/cama/2019/Hearing_files.zip\n",
      "Landed samples/zip/Hearing_files.zip\n",
      "Processing samples/zip/Hearing_files.zip\n",
      "File Name                                             Modified             Size\n",
      "arb_hearings_pp.txt                            2019-12-22 15:52:36      1503419\n",
      "arb_hearings_real.txt                          2019-12-22 15:52:40     45698132\n",
      "arb_protest_pp.txt                             2019-12-22 15:52:40       363036\n",
      "arb_protest_real.txt                           2019-12-22 15:52:42     13179840\n",
      "Processing arb_hearings_pp.txt\n",
      "Processed <_io.TextIOWrapper name='arb_hearings_pp.txt' encoding='iso-8859-1'>\n",
      "Processing arb_hearings_real.txt\n",
      "Processed <_io.TextIOWrapper name='arb_hearings_real.txt' encoding='iso-8859-1'>\n",
      "Processing arb_protest_pp.txt\n",
      "Processed <_io.TextIOWrapper name='arb_protest_pp.txt' encoding='iso-8859-1'>\n",
      "Processing arb_protest_real.txt\n",
      "Processed <_io.TextIOWrapper name='arb_protest_real.txt' encoding='iso-8859-1'>\n"
     ]
    }
   ],
   "source": [
    "process_txt(*process_zip(*land(*source(remote))))"
   ]
  },
  {
   "cell_type": "code",
   "execution_count": 135,
   "metadata": {},
   "outputs": [],
   "source": [
    "def compress(*files):\n",
    "    for file in files:\n",
    "        with file.open(\"rb\") as fin:\n",
    "            print(\"Compressing %s\" % fin)\n",
    "            with gzip.open(file.with_suffix(f\"{file.suffix}.gz\"), 'wb') as fout:\n",
    "                shutil.copyfileobj(fin, fout)\n",
    "                print(\"Compressed %s\" % fout)\n",
    "        file.unlink()"
   ]
  },
  {
   "cell_type": "code",
   "execution_count": 136,
   "metadata": {},
   "outputs": [],
   "source": [
    "files_to_compress = list(samples.rglob(\"*.txt\"))"
   ]
  },
  {
   "cell_type": "code",
   "execution_count": 137,
   "metadata": {},
   "outputs": [
    {
     "name": "stdout",
     "output_type": "stream",
     "text": [
      "Compressing <_io.BufferedReader name='samples/txt/arb_hearings_pp.txt'>\n",
      "Compressed <gzip _io.BufferedWriter name='samples/txt/arb_hearings_pp.txt.gz' 0x7f921feebb38>\n",
      "Compressing <_io.BufferedReader name='samples/txt/arb_protest_real.txt'>\n",
      "Compressed <gzip _io.BufferedWriter name='samples/txt/arb_protest_real.txt.gz' 0x7f921fefe550>\n",
      "Compressing <_io.BufferedReader name='samples/txt/arb_hearings_real.txt'>\n",
      "Compressed <gzip _io.BufferedWriter name='samples/txt/arb_hearings_real.txt.gz' 0x7f921feebb38>\n",
      "Compressing <_io.BufferedReader name='samples/txt/arb_protest_pp.txt'>\n",
      "Compressed <gzip _io.BufferedWriter name='samples/txt/arb_protest_pp.txt.gz' 0x7f921fefe1d0>\n"
     ]
    }
   ],
   "source": [
    "compress(*files_to_compress)"
   ]
  },
  {
   "cell_type": "code",
   "execution_count": null,
   "metadata": {},
   "outputs": [],
   "source": []
  }
 ],
 "metadata": {
  "kernelspec": {
   "display_name": "Python 3",
   "language": "python",
   "name": "python3"
  },
  "language_info": {
   "codemirror_mode": {
    "name": "ipython",
    "version": 3
   },
   "file_extension": ".py",
   "mimetype": "text/x-python",
   "name": "python",
   "nbconvert_exporter": "python",
   "pygments_lexer": "ipython3",
   "version": "3.7.3"
  }
 },
 "nbformat": 4,
 "nbformat_minor": 4
}
