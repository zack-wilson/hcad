{
 "cells": [
  {
   "cell_type": "code",
   "execution_count": 2,
   "metadata": {},
   "outputs": [
    {
     "name": "stdout",
     "output_type": "stream",
     "text": [
      "Welcome to\n",
      "      ____              __\n",
      "     / __/__  ___ _____/ /__\n",
      "    _\\ \\/ _ \\/ _ `/ __/  '_/\n",
      "   /__ / .__/\\_,_/_/ /_/\\_\\   version 2.4.4\n",
      "      /_/\n",
      "\n",
      "Using Python version 3.7.3 (default, Jul  1 2019 21:52:21)\n",
      "SparkSession available as 'spark'.\n"
     ]
    }
   ],
   "source": [
    "import csv\n",
    "import io\n",
    "import logging\n",
    "import re\n",
    "from pathlib import Path\n",
    "from zipfile import ZipFile\n",
    "from dataclasses import make_dataclass\n",
    "from datetime import datetime as dt\n",
    "\n",
    "import requests\n",
    "import pandas as pd\n",
    "from pyspark.shell import *\n",
    "from pyspark.sql import DataFrame, functions as F, types as T"
   ]
  },
  {
   "cell_type": "code",
   "execution_count": 3,
   "metadata": {},
   "outputs": [],
   "source": [
    "log = logging.getLogger(\"schemas\")\n",
    "logging.basicConfig(level=logging.INFO)"
   ]
  },
  {
   "cell_type": "code",
   "execution_count": 4,
   "metadata": {},
   "outputs": [],
   "source": [
    "ddl = Path(\"./samples/landing/Desc/Layout_and_Length.txt\")\n",
    "samples = Path(\"./samples/landing/2019/\")"
   ]
  },
  {
   "cell_type": "code",
   "execution_count": 39,
   "metadata": {},
   "outputs": [],
   "source": [
    "dictionary = re.findall(r\"(\\w+)\\s+(\\w+)\\s+(\\d+)\", ddl.read_text())"
   ]
  },
  {
   "cell_type": "code",
   "execution_count": 40,
   "metadata": {},
   "outputs": [],
   "source": [
    "zips = {i.stem: i for i in samples.rglob(\"*.zip\")}"
   ]
  },
  {
   "cell_type": "code",
   "execution_count": 41,
   "metadata": {},
   "outputs": [],
   "source": [
    "def write_schema(fp: str, df: DataFrame) -> dict:\n",
    "    schema = df.schema.json()\n",
    "    with Path(fp).open(\"w\") as f:\n",
    "        log.info(f.write(schema))\n",
    "    return dict(schema)"
   ]
  },
  {
   "cell_type": "code",
   "execution_count": 68,
   "metadata": {},
   "outputs": [],
   "source": [
    "def tables() -> set:\n",
    "    return set(i[0] for i in dictionary)\n",
    "\n",
    "def get_fields(table: str):\n",
    "    return [i[1] for i in dictionary if table.rstrip(\".txt\") in i[0]]"
   ]
  },
  {
   "cell_type": "code",
   "execution_count": 71,
   "metadata": {},
   "outputs": [
    {
     "data": {
      "text/plain": [
       "['arb_hearings_pp.txt',\n",
       " 'arb_hearings_real.txt',\n",
       " 'arb_protest_pp.txt',\n",
       " 'arb_protest_real.txt']"
      ]
     },
     "execution_count": 71,
     "metadata": {},
     "output_type": "execute_result"
    }
   ],
   "source": [
    "ZipFile(zips[\"Hearing_files\"]).namelist()"
   ]
  },
  {
   "cell_type": "code",
   "execution_count": 113,
   "metadata": {},
   "outputs": [],
   "source": [
    "def extract():\n",
    "    table = \"arb_protest_real.txt\"\n",
    "    with ZipFile(zips[\"Hearing_files\"]) as zip_file:\n",
    "        with zip_file.open(table) as f:\n",
    "            reader = csv.DictReader(io.TextIOWrapper(f, encoding=\"iso-8859-1\"), fieldnames=get_fields(table), dialect=\"excel-tab\")\n",
    "            yield from reader"
   ]
  },
  {
   "cell_type": "code",
   "execution_count": 183,
   "metadata": {},
   "outputs": [],
   "source": [
    "raw = [*extract()]"
   ]
  },
  {
   "cell_type": "code",
   "execution_count": 132,
   "metadata": {},
   "outputs": [],
   "source": [
    "df = spark.createDataFrame(raw)"
   ]
  },
  {
   "cell_type": "code",
   "execution_count": 133,
   "metadata": {},
   "outputs": [
    {
     "data": {
      "text/plain": [
       "DataFrame[acct: string, protested_by: string, protested_dt: string]"
      ]
     },
     "execution_count": 133,
     "metadata": {},
     "output_type": "execute_result"
    }
   ],
   "source": [
    "df.cache()"
   ]
  },
  {
   "cell_type": "code",
   "execution_count": 165,
   "metadata": {},
   "outputs": [],
   "source": [
    "df = df.withColumn(\"protested_dt\", F.to_date(df.protested_dt, \"MM/dd/yyyy\"))"
   ]
  },
  {
   "cell_type": "code",
   "execution_count": 177,
   "metadata": {},
   "outputs": [
    {
     "name": "stdout",
     "output_type": "stream",
     "text": [
      "+-------+--------------------+------------------+\n",
      "|summary|                acct|      protested_by|\n",
      "+-------+--------------------+------------------+\n",
      "|  count|              424219|            424219|\n",
      "|   mean|1.013531628362041...| 8243.088316189662|\n",
      "| stddev|5.084166816570528...|14324.128152197953|\n",
      "|    min|       0010020000001|              1000|\n",
      "|    max|       9700000000278|             Owner|\n",
      "+-------+--------------------+------------------+\n",
      "\n"
     ]
    }
   ],
   "source": [
    "df.describe().show()"
   ]
  },
  {
   "cell_type": "code",
   "execution_count": 178,
   "metadata": {},
   "outputs": [
    {
     "data": {
      "text/plain": [
       "{'type': 'struct',\n",
       " 'fields': [{'name': 'acct',\n",
       "   'type': 'string',\n",
       "   'nullable': True,\n",
       "   'metadata': {}},\n",
       "  {'name': 'protested_by', 'type': 'string', 'nullable': True, 'metadata': {}},\n",
       "  {'name': 'protested_dt', 'type': 'date', 'nullable': True, 'metadata': {}}]}"
      ]
     },
     "execution_count": 178,
     "metadata": {},
     "output_type": "execute_result"
    }
   ],
   "source": [
    "df.schema.jsonValue()"
   ]
  }
 ],
 "metadata": {
  "kernelspec": {
   "display_name": "Python 3",
   "language": "python",
   "name": "python3"
  },
  "language_info": {
   "codemirror_mode": {
    "name": "ipython",
    "version": 3
   },
   "file_extension": ".py",
   "mimetype": "text/x-python",
   "name": "python",
   "nbconvert_exporter": "python",
   "pygments_lexer": "ipython3",
   "version": "3.7.3"
  }
 },
 "nbformat": 4,
 "nbformat_minor": 4
}
