{
 "cells": [
  {
   "cell_type": "code",
   "execution_count": 162,
   "metadata": {},
   "outputs": [],
   "source": [
    "import csv\n",
    "import logging\n",
    "import io\n",
    "import json\n",
    "import re\n",
    "import shutil\n",
    "import subprocess\n",
    "import tempfile\n",
    "import zipfile\n",
    "from collections import OrderedDict\n",
    "from datetime import datetime as dt\n",
    "from pathlib import Path\n",
    "from typing import Iterator, TextIO, Union, List, Tuple\n",
    "from urllib.parse import urljoin, urlsplit\n",
    "\n",
    "import requests"
   ]
  },
  {
   "cell_type": "code",
   "execution_count": 47,
   "metadata": {},
   "outputs": [],
   "source": [
    "log = logging.getLogger(\"PurePythonEtl\")\n",
    "logging.basicConfig(level=logging.INFO)"
   ]
  },
  {
   "cell_type": "code",
   "execution_count": 31,
   "metadata": {},
   "outputs": [],
   "source": [
    "tax_year = dt.now().strftime(\"%Y\")\n",
    "domain = \"https://pdata.hcad.org\"\n",
    "remote = Path(\"/data/cama/2019/Hearing_files.zip\")\n",
    "dictionary = re.findall(r\"(\\w+)\\s+(\\w+)\\s+(\\d+)\\s?\", requests.get(urljoin(domain, \"/Desc/Layout_and_Length.txt\")).text)\n",
    "samples = Path(\"samples/hcad\")"
   ]
  },
  {
   "cell_type": "code",
   "execution_count": 109,
   "metadata": {},
   "outputs": [],
   "source": [
    "get_fields = lambda table: [x[1] for x in dictionary if x[0] in table]"
   ]
  },
  {
   "cell_type": "code",
   "execution_count": 153,
   "metadata": {},
   "outputs": [],
   "source": [
    "def download(*urls: str) -> Iterator[Path]:\n",
    "    for url in urls:\n",
    "        print(url)\n",
    "        remote = Path(urlsplit(url).path)\n",
    "        dst = samples.joinpath(remote.parent.name).joinpath(remote.stem).joinpath(remote.name)\n",
    "        dst.parent.mkdir(parents=True, exist_ok=True)\n",
    "        r = sess.get(urljoin(domain, remote.as_posix()))\n",
    "        dst.write_bytes(r.content)\n",
    "        yield dst"
   ]
  },
  {
   "cell_type": "code",
   "execution_count": 179,
   "metadata": {},
   "outputs": [],
   "source": [
    "def process_zip(*files: Path) -> Iterator[TextIO]:\n",
    "    for file in files:\n",
    "        print(file)\n",
    "        with zipfile.ZipFile(file) as zip_file:\n",
    "            for f in zip_file.namelist():\n",
    "                yield io.TextIOWrapper(zip_file.open(f), encoding=\"iso-8859-1\", newline=\"\")\n",
    "\n",
    "def read_csv(*files: TextIO) -> Iterator[OrderedDict]:\n",
    "    for file in files:\n",
    "        print(file)\n",
    "        fields = get_fields(file.name)\n",
    "        reader = csv.DictReader(file, fieldnames=fields, dialect=\"excel-tab\")\n",
    "        for row in reader:\n",
    "            yield row\n",
    "\n",
    "def process_csv(*args: OrderedDict) -> Iterator[OrderedDict]:\n",
    "    for row in args:\n",
    "        yield row\n",
    "\n",
    "def write_csv(*rows: OrderedDict, fields: List[str], dst: Path) -> None:\n",
    "    writer = csv.DictWriter(dst.open(\"w+\"), fieldnames=fields)\n",
    "    writer.writeheader()\n",
    "    writer.writerows(rows)\n",
    "\n",
    "start = dt.now()\n",
    "print(\"start=%s\" % start)\n",
    "next(write_csv(*process_csv(*read_csv(*process_zip(*download(urljoin(domain, remote.as_posix())))))))\n",
    "end = dt.now()\n",
    "print(\"start=%s,end=%s,elapsed=%s\" % (start, end, end - start))"
   ]
  },
  {
   "cell_type": "code",
   "execution_count": null,
   "metadata": {},
   "outputs": [],
   "source": []
  }
 ],
 "metadata": {
  "kernelspec": {
   "display_name": "Python 3",
   "language": "python",
   "name": "python3"
  },
  "language_info": {
   "codemirror_mode": {
    "name": "ipython",
    "version": 3
   },
   "file_extension": ".py",
   "mimetype": "text/x-python",
   "name": "python",
   "nbconvert_exporter": "python",
   "pygments_lexer": "ipython3",
   "version": "3.7.3"
  }
 },
 "nbformat": 4,
 "nbformat_minor": 4
}
