{
 "cells": [
  {
   "cell_type": "code",
   "execution_count": 1,
   "metadata": {},
   "outputs": [
    {
     "name": "stdout",
     "output_type": "stream",
     "text": [
      "Welcome to\n",
      "      ____              __\n",
      "     / __/__  ___ _____/ /__\n",
      "    _\\ \\/ _ \\/ _ `/ __/  '_/\n",
      "   /__ / .__/\\_,_/_/ /_/\\_\\   version 2.4.4\n",
      "      /_/\n",
      "\n",
      "Using Python version 3.7.3 (default, Jul  1 2019 21:52:21)\n",
      "SparkSession available as 'spark'.\n"
     ]
    }
   ],
   "source": [
    "import csv\n",
    "import json\n",
    "import logging\n",
    "import math\n",
    "import os\n",
    "import re\n",
    "import sys\n",
    "from datetime import datetime as dt\n",
    "from pathlib import Path\n",
    "from urllib.parse import urlparse, urljoin\n",
    "from zipfile import ZipFile\n",
    "\n",
    "import dateutil\n",
    "import tqdm\n",
    "import requests\n",
    "import pandas as pd\n",
    "from pyspark.shell import *\n",
    "from pyspark.sql.functions import *\n",
    "from pyspark.sql.types import *"
   ]
  },
  {
   "cell_type": "code",
   "execution_count": 2,
   "metadata": {},
   "outputs": [],
   "source": [
    "log = logging.getLogger(\"hcad.etl\")\n",
    "logging_format = \"%(asctime)s:%(name)s:%(funcName)s - %(message)s\"\n",
    "logging.basicConfig(level=logging.INFO, format=logging_format)"
   ]
  },
  {
   "cell_type": "code",
   "execution_count": 3,
   "metadata": {},
   "outputs": [],
   "source": [
    "# vars\n",
    "tax_year = dt.now().strftime(\"%Y\")\n",
    "domain = \"https://pdata.hcad.org\"\n",
    "dictionary = \"/Desc/Layout_and_Length.txt\"\n",
    "archives = f\"/data/cama/{tax_year}/\"\n",
    "landing = Path(\"./samples\")\n",
    "sources = [\"Hearing_files.zip\"]"
   ]
  },
  {
   "cell_type": "code",
   "execution_count": 4,
   "metadata": {},
   "outputs": [],
   "source": [
    "def extract():\n",
    "    urls = [urljoin(domain, p) for p in [dictionary, *[os.path.join(archives, s) for s in sources]]]\n",
    "    for url in urls:\n",
    "        dst = landing.joinpath(urlparse(url).path.lstrip(\"/\"))\n",
    "        try:\n",
    "            os.makedirs(os.path.dirname(dst))\n",
    "        except FileExistsError:\n",
    "            pass\n",
    "        with requests.session() as sess:\n",
    "            headers = sess.head(url).headers\n",
    "            log.info(json.dumps(dict(headers), indent='    '))\n",
    "            if dst.exists():\n",
    "                sizes = sess.head(url).headers.get(\"Content-Length\"), dst.stat().st_size\n",
    "                a, b = map(lambda x: int(x) if x is not None else 0, sizes)\n",
    "                log.debug(f\"src={a}, src={b}\")\n",
    "                if not math.isclose(a, b, rel_tol=1.0):\n",
    "                    r = sess.get(url)\n",
    "                    dst.write_bytes(r.content)\n",
    "            else:\n",
    "                r = sess.get(url)\n",
    "                dst.write_bytes(r.content)\n",
    "        yield dst"
   ]
  },
  {
   "cell_type": "code",
   "execution_count": 5,
   "metadata": {},
   "outputs": [
    {
     "name": "stderr",
     "output_type": "stream",
     "text": [
      "2019-12-14 16:52:03,871:hcad.etl:extract - {\n",
      "    \"Server\": \"nginx/1.14.0 (Ubuntu)\",\n",
      "    \"Date\": \"Sat, 14 Dec 2019 16:52:03 GMT\",\n",
      "    \"Content-Type\": \"text/plain\",\n",
      "    \"Content-Length\": \"132512\",\n",
      "    \"Connection\": \"keep-alive\",\n",
      "    \"Last-Modified\": \"Sun, 27 Oct 2019 20:41:13 GMT\",\n",
      "    \"Accept-Ranges\": \"bytes\",\n",
      "    \"ETag\": \"\\\"5bcf67df68dd51:0\\\"\",\n",
      "    \"X-Powered-By\": \"ASP.NET\"\n",
      "}\n",
      "2019-12-14 16:52:04,248:hcad.etl:extract - {\n",
      "    \"Server\": \"nginx/1.14.0 (Ubuntu)\",\n",
      "    \"Date\": \"Sat, 14 Dec 2019 16:52:04 GMT\",\n",
      "    \"Content-Type\": \"application/x-zip-compressed\",\n",
      "    \"Content-Length\": \"13699272\",\n",
      "    \"Connection\": \"keep-alive\",\n",
      "    \"Last-Modified\": \"Mon, 09 Dec 2019 02:37:07 GMT\",\n",
      "    \"Accept-Ranges\": \"bytes\",\n",
      "    \"ETag\": \"\\\"8fdd9d8c39aed51:0\\\"\",\n",
      "    \"X-Powered-By\": \"ASP.NET\"\n",
      "}\n"
     ]
    },
    {
     "data": {
      "text/plain": [
       "[PosixPath('samples/Desc/Layout_and_Length.txt'),\n",
       " PosixPath('samples/data/cama/2019/Hearing_files.zip')]"
      ]
     },
     "execution_count": 5,
     "metadata": {},
     "output_type": "execute_result"
    }
   ],
   "source": [
    "extracts = extract()\n",
    "list(extracts)"
   ]
  },
  {
   "cell_type": "code",
   "execution_count": null,
   "metadata": {},
   "outputs": [],
   "source": []
  },
  {
   "cell_type": "code",
   "execution_count": null,
   "metadata": {},
   "outputs": [],
   "source": []
  },
  {
   "cell_type": "code",
   "execution_count": null,
   "metadata": {},
   "outputs": [],
   "source": []
  }
 ],
 "metadata": {
  "kernelspec": {
   "display_name": "Python 3",
   "language": "python",
   "name": "python3"
  },
  "language_info": {
   "codemirror_mode": {
    "name": "ipython",
    "version": 3
   },
   "file_extension": ".py",
   "mimetype": "text/x-python",
   "name": "python",
   "nbconvert_exporter": "python",
   "pygments_lexer": "ipython3",
   "version": "3.7.3"
  }
 },
 "nbformat": 4,
 "nbformat_minor": 4
}
